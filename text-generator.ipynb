{
 "cells": [
  {
   "cell_type": "markdown",
   "metadata": {},
   "source": [
    "# Future Plans for textgenrnn\n"
   ]
  },
  {
   "cell_type": "markdown",
   "metadata": {},
   "source": [
    "More formal documentation\n",
    "\n",
    "A web-based implementation using tensorflow.js (works especially well due to the network's small size)\n",
    "\n",
    "A way to visualize the attention-layer outputs to see how the network \"learns.\"\n",
    "\n",
    "A mode to allow the model architecture to be used for chatbot conversations (may be released as a separate project)\n",
    "\n",
    "More depth toward context (positional context + allowing multiple context labels)\n",
    "\n",
    "A larger pretrained network which can accommodate longer character sequences and a more indepth understanding of language, creating better generated sentences.\n",
    "\n",
    "Hierarchical softmax activation for word-level models (once Keras has good support for it).\n",
    "\n",
    "FP16 for superfast training on Volta/TPUs (once Keras has good support for it)."
   ]
  },
  {
   "cell_type": "markdown",
   "metadata": {},
   "source": [
    "# install libary"
   ]
  },
  {
   "cell_type": "code",
   "execution_count": 2,
   "metadata": {},
   "outputs": [
    {
     "name": "stdout",
     "output_type": "stream",
     "text": [
      "Requirement already satisfied: textgenrnn in c:\\users\\oraby\\appdata\\local\\programs\\python\\python37\\lib\\site-packages (2.0.0)\n",
      "Requirement already satisfied: tqdm in c:\\users\\oraby\\appdata\\local\\programs\\python\\python37\\lib\\site-packages (from textgenrnn) (4.11.2)\n",
      "Requirement already satisfied: scikit-learn in c:\\users\\oraby\\appdata\\local\\programs\\python\\python37\\lib\\site-packages (from textgenrnn) (0.21.3)\n",
      "Requirement already satisfied: tensorflow>=2.1.0 in c:\\users\\oraby\\appdata\\local\\programs\\python\\python37\\lib\\site-packages (from textgenrnn) (2.1.0)\n",
      "Requirement already satisfied: keras in c:\\users\\oraby\\appdata\\local\\programs\\python\\python37\\lib\\site-packages (from textgenrnn) (2.3.1)\n",
      "Requirement already satisfied: h5py in c:\\users\\oraby\\appdata\\local\\programs\\python\\python37\\lib\\site-packages (from textgenrnn) (2.10.0)\n",
      "Requirement already satisfied: scipy>=0.17.0 in c:\\users\\oraby\\appdata\\local\\programs\\python\\python37\\lib\\site-packages (from scikit-learn->textgenrnn) (1.4.1)\n",
      "Requirement already satisfied: joblib>=0.11 in c:\\users\\oraby\\appdata\\local\\programs\\python\\python37\\lib\\site-packages (from scikit-learn->textgenrnn) (0.14.0)\n",
      "Requirement already satisfied: numpy>=1.11.0 in c:\\users\\oraby\\appdata\\local\\programs\\python\\python37\\lib\\site-packages (from scikit-learn->textgenrnn) (1.17.3)\n",
      "Requirement already satisfied: absl-py>=0.7.0 in c:\\users\\oraby\\appdata\\local\\programs\\python\\python37\\lib\\site-packages (from tensorflow>=2.1.0->textgenrnn) (0.9.0)\n",
      "Requirement already satisfied: gast==0.2.2 in c:\\users\\oraby\\appdata\\local\\programs\\python\\python37\\lib\\site-packages (from tensorflow>=2.1.0->textgenrnn) (0.2.2)\n",
      "Requirement already satisfied: astor>=0.6.0 in c:\\users\\oraby\\appdata\\local\\programs\\python\\python37\\lib\\site-packages (from tensorflow>=2.1.0->textgenrnn) (0.8.1)\n",
      "Requirement already satisfied: opt-einsum>=2.3.2 in c:\\users\\oraby\\appdata\\local\\programs\\python\\python37\\lib\\site-packages (from tensorflow>=2.1.0->textgenrnn) (3.1.0)\n",
      "Requirement already satisfied: tensorboard<2.2.0,>=2.1.0 in c:\\users\\oraby\\appdata\\local\\programs\\python\\python37\\lib\\site-packages (from tensorflow>=2.1.0->textgenrnn) (2.1.1)\n",
      "Requirement already satisfied: tensorflow-estimator<2.2.0,>=2.1.0rc0 in c:\\users\\oraby\\appdata\\local\\programs\\python\\python37\\lib\\site-packages (from tensorflow>=2.1.0->textgenrnn) (2.1.0)\n",
      "Requirement already satisfied: grpcio>=1.8.6 in c:\\users\\oraby\\appdata\\local\\programs\\python\\python37\\lib\\site-packages (from tensorflow>=2.1.0->textgenrnn) (1.26.0)\n",
      "Requirement already satisfied: protobuf>=3.8.0 in c:\\users\\oraby\\appdata\\local\\programs\\python\\python37\\lib\\site-packages (from tensorflow>=2.1.0->textgenrnn) (3.11.2)\n",
      "Requirement already satisfied: termcolor>=1.1.0 in c:\\users\\oraby\\appdata\\local\\programs\\python\\python37\\lib\\site-packages (from tensorflow>=2.1.0->textgenrnn) (1.1.0)\n",
      "Requirement already satisfied: six>=1.12.0 in c:\\users\\oraby\\appdata\\local\\programs\\python\\python37\\lib\\site-packages (from tensorflow>=2.1.0->textgenrnn) (1.12.0)\n",
      "Requirement already satisfied: wheel>=0.26; python_version >= \"3\" in c:\\users\\oraby\\appdata\\local\\programs\\python\\python37\\lib\\site-packages (from tensorflow>=2.1.0->textgenrnn) (0.33.1)\n",
      "Requirement already satisfied: google-pasta>=0.1.6 in c:\\users\\oraby\\appdata\\local\\programs\\python\\python37\\lib\\site-packages (from tensorflow>=2.1.0->textgenrnn) (0.1.8)\n",
      "Requirement already satisfied: keras-applications>=1.0.8 in c:\\users\\oraby\\appdata\\local\\programs\\python\\python37\\lib\\site-packages (from tensorflow>=2.1.0->textgenrnn) (1.0.8)\n",
      "Requirement already satisfied: wrapt>=1.11.1 in c:\\users\\oraby\\appdata\\local\\programs\\python\\python37\\lib\\site-packages (from tensorflow>=2.1.0->textgenrnn) (1.11.2)\n",
      "Requirement already satisfied: keras-preprocessing>=1.1.0 in c:\\users\\oraby\\appdata\\local\\programs\\python\\python37\\lib\\site-packages (from tensorflow>=2.1.0->textgenrnn) (1.1.0)\n",
      "Requirement already satisfied: pyyaml in c:\\users\\oraby\\appdata\\local\\programs\\python\\python37\\lib\\site-packages (from keras->textgenrnn) (5.3)\n",
      "Requirement already satisfied: google-auth-oauthlib<0.5,>=0.4.1 in c:\\users\\oraby\\appdata\\local\\programs\\python\\python37\\lib\\site-packages (from tensorboard<2.2.0,>=2.1.0->tensorflow>=2.1.0->textgenrnn) (0.4.1)\n",
      "Requirement already satisfied: requests<3,>=2.21.0 in c:\\users\\oraby\\appdata\\local\\programs\\python\\python37\\lib\\site-packages (from tensorboard<2.2.0,>=2.1.0->tensorflow>=2.1.0->textgenrnn) (2.21.0)\n",
      "Requirement already satisfied: setuptools>=41.0.0 in c:\\users\\oraby\\appdata\\local\\programs\\python\\python37\\lib\\site-packages (from tensorboard<2.2.0,>=2.1.0->tensorflow>=2.1.0->textgenrnn) (41.0.1)\n",
      "Requirement already satisfied: markdown>=2.6.8 in c:\\users\\oraby\\appdata\\local\\programs\\python\\python37\\lib\\site-packages (from tensorboard<2.2.0,>=2.1.0->tensorflow>=2.1.0->textgenrnn) (3.1.1)\n",
      "Requirement already satisfied: werkzeug>=0.11.15 in c:\\users\\oraby\\appdata\\local\\programs\\python\\python37\\lib\\site-packages (from tensorboard<2.2.0,>=2.1.0->tensorflow>=2.1.0->textgenrnn) (0.16.1)\n",
      "Requirement already satisfied: google-auth<2,>=1.6.3 in c:\\users\\oraby\\appdata\\local\\programs\\python\\python37\\lib\\site-packages (from tensorboard<2.2.0,>=2.1.0->tensorflow>=2.1.0->textgenrnn) (1.11.0)\n",
      "Requirement already satisfied: requests-oauthlib>=0.7.0 in c:\\users\\oraby\\appdata\\local\\programs\\python\\python37\\lib\\site-packages (from google-auth-oauthlib<0.5,>=0.4.1->tensorboard<2.2.0,>=2.1.0->tensorflow>=2.1.0->textgenrnn) (1.3.0)\n",
      "Requirement already satisfied: certifi>=2017.4.17 in c:\\users\\oraby\\appdata\\local\\programs\\python\\python37\\lib\\site-packages (from requests<3,>=2.21.0->tensorboard<2.2.0,>=2.1.0->tensorflow>=2.1.0->textgenrnn) (2019.11.28)\n",
      "Requirement already satisfied: chardet<3.1.0,>=3.0.2 in c:\\users\\oraby\\appdata\\local\\programs\\python\\python37\\lib\\site-packages (from requests<3,>=2.21.0->tensorboard<2.2.0,>=2.1.0->tensorflow>=2.1.0->textgenrnn) (3.0.4)\n",
      "Requirement already satisfied: idna<2.9,>=2.5 in c:\\users\\oraby\\appdata\\local\\programs\\python\\python37\\lib\\site-packages (from requests<3,>=2.21.0->tensorboard<2.2.0,>=2.1.0->tensorflow>=2.1.0->textgenrnn) (2.8)\n",
      "Requirement already satisfied: urllib3<1.25,>=1.21.1 in c:\\users\\oraby\\appdata\\local\\programs\\python\\python37\\lib\\site-packages (from requests<3,>=2.21.0->tensorboard<2.2.0,>=2.1.0->tensorflow>=2.1.0->textgenrnn) (1.24.3)\n",
      "Requirement already satisfied: rsa<4.1,>=3.1.4 in c:\\users\\oraby\\appdata\\local\\programs\\python\\python37\\lib\\site-packages (from google-auth<2,>=1.6.3->tensorboard<2.2.0,>=2.1.0->tensorflow>=2.1.0->textgenrnn) (4.0)\n",
      "Requirement already satisfied: pyasn1-modules>=0.2.1 in c:\\users\\oraby\\appdata\\local\\programs\\python\\python37\\lib\\site-packages (from google-auth<2,>=1.6.3->tensorboard<2.2.0,>=2.1.0->tensorflow>=2.1.0->textgenrnn) (0.2.8)\n",
      "Requirement already satisfied: cachetools<5.0,>=2.0.0 in c:\\users\\oraby\\appdata\\local\\programs\\python\\python37\\lib\\site-packages (from google-auth<2,>=1.6.3->tensorboard<2.2.0,>=2.1.0->tensorflow>=2.1.0->textgenrnn) (4.0.0)\n",
      "Requirement already satisfied: oauthlib>=3.0.0 in c:\\users\\oraby\\appdata\\local\\programs\\python\\python37\\lib\\site-packages (from requests-oauthlib>=0.7.0->google-auth-oauthlib<0.5,>=0.4.1->tensorboard<2.2.0,>=2.1.0->tensorflow>=2.1.0->textgenrnn) (3.1.0)\n",
      "Requirement already satisfied: pyasn1>=0.1.3 in c:\\users\\oraby\\appdata\\local\\programs\\python\\python37\\lib\\site-packages (from rsa<4.1,>=3.1.4->google-auth<2,>=1.6.3->tensorboard<2.2.0,>=2.1.0->tensorflow>=2.1.0->textgenrnn) (0.4.8)\n"
     ]
    },
    {
     "name": "stderr",
     "output_type": "stream",
     "text": [
      "WARNING: You are using pip version 19.1, however version 20.0.2 is available.\n",
      "You should consider upgrading via the 'python -m pip install --upgrade pip' command.\n"
     ]
    }
   ],
   "source": [
    "!pip3 install textgenrnn"
   ]
  },
  {
   "cell_type": "code",
   "execution_count": 3,
   "metadata": {},
   "outputs": [
    {
     "name": "stderr",
     "output_type": "stream",
     "text": [
      "Using TensorFlow backend.\n"
     ]
    }
   ],
   "source": [
    "from textgenrnn import textgenrnn"
   ]
  },
  {
   "cell_type": "markdown",
   "metadata": {},
   "source": [
    "# Train model"
   ]
  },
  {
   "cell_type": "code",
   "execution_count": null,
   "metadata": {},
   "outputs": [],
   "source": [
    "textgen.train_from_file('hacker-news-2000.txt', num_epochs=1)"
   ]
  },
  {
   "cell_type": "markdown",
   "metadata": {},
   "source": [
    "# load Weights"
   ]
  },
  {
   "cell_type": "markdown",
   "metadata": {},
   "source": [
    "The model weights are relatively small (2 MB on disk), and they can easily be saved and loaded into a new textgenrnn instance. As a result, you can play with models which have been trained on hundreds of passes through the data. (in fact, textgenrnn learns so well that you have to increase the temperature significantly for creative output!)"
   ]
  },
  {
   "cell_type": "code",
   "execution_count": 8,
   "metadata": {},
   "outputs": [],
   "source": [
    "textgen = textgenrnn('hacker-news-2000.hdf5')\n"
   ]
  },
  {
   "cell_type": "markdown",
   "metadata": {},
   "source": [
    "# generate text"
   ]
  },
  {
   "cell_type": "code",
   "execution_count": 10,
   "metadata": {},
   "outputs": [
    {
     "name": "stdout",
     "output_type": "stream",
     "text": [
      "[Psychattle/Brazil Space] Anywhere - how do you think iceland sounds in viab mining.\n",
      "\n"
     ]
    }
   ],
   "source": [
    "textgen.generate(1, temperature=1.0)\n"
   ]
  },
  {
   "cell_type": "code",
   "execution_count": null,
   "metadata": {},
   "outputs": [],
   "source": []
  }
 ],
 "metadata": {
  "kernelspec": {
   "display_name": "Python 3",
   "language": "python",
   "name": "python3"
  },
  "language_info": {
   "codemirror_mode": {
    "name": "ipython",
    "version": 3
   },
   "file_extension": ".py",
   "mimetype": "text/x-python",
   "name": "python",
   "nbconvert_exporter": "python",
   "pygments_lexer": "ipython3",
   "version": "3.7.2"
  }
 },
 "nbformat": 4,
 "nbformat_minor": 2
}
